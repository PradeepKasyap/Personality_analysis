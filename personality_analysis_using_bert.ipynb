{
  "metadata": {
    "kernelspec": {
      "language": "python",
      "display_name": "Python 3",
      "name": "python3"
    },
    "language_info": {
      "name": "python",
      "version": "3.7.10",
      "mimetype": "text/x-python",
      "codemirror_mode": {
        "name": "ipython",
        "version": 3
      },
      "pygments_lexer": "ipython3",
      "nbconvert_exporter": "python",
      "file_extension": ".py"
    },
    "colab": {
      "provenance": []
    }
  },
  "nbformat_minor": 0,
  "nbformat": 4,
  "cells": [
    {
      "cell_type": "code",
      "source": [
        "import numpy as np # linear algebra\n",
        "import pandas as pd # data processing, CSV file I/O (e.g. pd.read_csv)\n"
      ],
      "metadata": {
        "_uuid": "8f2839f25d086af736a60e9eeb907d3b93b6e0e5",
        "_cell_guid": "b1076dfc-b9ad-4769-8c92-a6c4dae69d19",
        "execution": {
          "iopub.status.busy": "2022-09-13T17:24:07.307715Z",
          "iopub.execute_input": "2022-09-13T17:24:07.308533Z",
          "iopub.status.idle": "2022-09-13T17:24:07.350492Z",
          "shell.execute_reply.started": "2022-09-13T17:24:07.308396Z",
          "shell.execute_reply": "2022-09-13T17:24:07.349385Z"
        },
        "trusted": true,
        "id": "wvEQx08Kbdp5"
      },
      "execution_count": 1,
      "outputs": []
    },
    {
      "cell_type": "code",
      "source": [
        "data = pd.read_csv(\"./drive/MyDrive/mbti/mbti_1.csv\")"
      ],
      "metadata": {
        "_uuid": "d629ff2d2480ee46fbb7e2d37f6b5fab8052498a",
        "_cell_guid": "79c7e3d0-c299-4dcb-8224-4455121ee9b0",
        "execution": {
          "iopub.status.busy": "2022-09-13T17:24:08.228058Z",
          "iopub.execute_input": "2022-09-13T17:24:08.228362Z",
          "iopub.status.idle": "2022-09-13T17:24:09.655302Z",
          "shell.execute_reply.started": "2022-09-13T17:24:08.228334Z",
          "shell.execute_reply": "2022-09-13T17:24:09.654489Z"
        },
        "trusted": true,
        "id": "-IBXTvpmbdp7"
      },
      "execution_count": null,
      "outputs": []
    },
    {
      "cell_type": "code",
      "source": [
        "data.head()"
      ],
      "metadata": {
        "execution": {
          "iopub.status.busy": "2022-09-13T17:24:09.657074Z",
          "iopub.execute_input": "2022-09-13T17:24:09.657416Z",
          "iopub.status.idle": "2022-09-13T17:24:09.680009Z",
          "shell.execute_reply.started": "2022-09-13T17:24:09.657373Z",
          "shell.execute_reply": "2022-09-13T17:24:09.678965Z"
        },
        "trusted": true,
        "id": "l1IYFVqLbdp7",
        "outputId": "56ed0619-2522-4fbc-cc8e-2cf445c5e24a"
      },
      "execution_count": null,
      "outputs": [
        {
          "execution_count": 3,
          "output_type": "execute_result",
          "data": {
            "text/plain": "   type                                              posts\n0  INFJ  'http://www.youtube.com/watch?v=qsXHcwe3krw|||...\n1  ENTP  'I'm finding the lack of me in these posts ver...\n2  INTP  'Good one  _____   https://www.youtube.com/wat...\n3  INTJ  'Dear INTP,   I enjoyed our conversation the o...\n4  ENTJ  'You're fired.|||That's another silly misconce...",
            "text/html": "<div>\n<style scoped>\n    .dataframe tbody tr th:only-of-type {\n        vertical-align: middle;\n    }\n\n    .dataframe tbody tr th {\n        vertical-align: top;\n    }\n\n    .dataframe thead th {\n        text-align: right;\n    }\n</style>\n<table border=\"1\" class=\"dataframe\">\n  <thead>\n    <tr style=\"text-align: right;\">\n      <th></th>\n      <th>type</th>\n      <th>posts</th>\n    </tr>\n  </thead>\n  <tbody>\n    <tr>\n      <th>0</th>\n      <td>INFJ</td>\n      <td>'http://www.youtube.com/watch?v=qsXHcwe3krw|||...</td>\n    </tr>\n    <tr>\n      <th>1</th>\n      <td>ENTP</td>\n      <td>'I'm finding the lack of me in these posts ver...</td>\n    </tr>\n    <tr>\n      <th>2</th>\n      <td>INTP</td>\n      <td>'Good one  _____   https://www.youtube.com/wat...</td>\n    </tr>\n    <tr>\n      <th>3</th>\n      <td>INTJ</td>\n      <td>'Dear INTP,   I enjoyed our conversation the o...</td>\n    </tr>\n    <tr>\n      <th>4</th>\n      <td>ENTJ</td>\n      <td>'You're fired.|||That's another silly misconce...</td>\n    </tr>\n  </tbody>\n</table>\n</div>"
          },
          "metadata": {}
        }
      ]
    },
    {
      "cell_type": "code",
      "source": [
        "types = np.unique(data.type.values)"
      ],
      "metadata": {
        "execution": {
          "iopub.status.busy": "2022-09-13T17:24:14.904471Z",
          "iopub.execute_input": "2022-09-13T17:24:14.904770Z",
          "iopub.status.idle": "2022-09-13T17:24:14.918694Z",
          "shell.execute_reply.started": "2022-09-13T17:24:14.904738Z",
          "shell.execute_reply": "2022-09-13T17:24:14.917610Z"
        },
        "trusted": true,
        "id": "iPM6D83Ubdp8"
      },
      "execution_count": null,
      "outputs": []
    },
    {
      "cell_type": "code",
      "source": [
        "def get_type_index(string):\n",
        "    return list(types).index(string)"
      ],
      "metadata": {
        "execution": {
          "iopub.status.busy": "2022-09-13T17:24:15.987742Z",
          "iopub.execute_input": "2022-09-13T17:24:15.988075Z",
          "iopub.status.idle": "2022-09-13T17:24:15.993891Z",
          "shell.execute_reply.started": "2022-09-13T17:24:15.988041Z",
          "shell.execute_reply": "2022-09-13T17:24:15.992657Z"
        },
        "trusted": true,
        "id": "X1kXC2S7bdp8"
      },
      "execution_count": null,
      "outputs": []
    },
    {
      "cell_type": "code",
      "source": [
        "data['type_index'] = data['type'].apply(get_type_index)"
      ],
      "metadata": {
        "execution": {
          "iopub.status.busy": "2022-09-13T17:24:18.136242Z",
          "iopub.execute_input": "2022-09-13T17:24:18.137308Z",
          "iopub.status.idle": "2022-09-13T17:24:18.163746Z",
          "shell.execute_reply.started": "2022-09-13T17:24:18.137255Z",
          "shell.execute_reply": "2022-09-13T17:24:18.162732Z"
        },
        "trusted": true,
        "id": "z6U9Xdrkbdp9"
      },
      "execution_count": null,
      "outputs": []
    },
    {
      "cell_type": "code",
      "source": [
        "data.posts.values[0]"
      ],
      "metadata": {
        "execution": {
          "iopub.status.busy": "2022-09-13T17:24:19.497939Z",
          "iopub.execute_input": "2022-09-13T17:24:19.498876Z",
          "iopub.status.idle": "2022-09-13T17:24:19.505961Z",
          "shell.execute_reply.started": "2022-09-13T17:24:19.498829Z",
          "shell.execute_reply": "2022-09-13T17:24:19.505139Z"
        },
        "trusted": true,
        "id": "ft16nw4Mbdp9",
        "outputId": "4aca4c12-87ed-4132-b8e9-f1e012685012"
      },
      "execution_count": null,
      "outputs": [
        {
          "execution_count": 7,
          "output_type": "execute_result",
          "data": {
            "text/plain": "\"'http://www.youtube.com/watch?v=qsXHcwe3krw|||http://41.media.tumblr.com/tumblr_lfouy03PMA1qa1rooo1_500.jpg|||enfp and intj moments  https://www.youtube.com/watch?v=iz7lE1g4XM4  sportscenter not top ten plays  https://www.youtube.com/watch?v=uCdfze1etec  pranks|||What has been the most life-changing experience in your life?|||http://www.youtube.com/watch?v=vXZeYwwRDw8   http://www.youtube.com/watch?v=u8ejam5DP3E  On repeat for most of today.|||May the PerC Experience immerse you.|||The last thing my INFJ friend posted on his facebook before committing suicide the next day. Rest in peace~   http://vimeo.com/22842206|||Hello ENFJ7. Sorry to hear of your distress. It's only natural for a relationship to not be perfection all the time in every moment of existence. Try to figure the hard times as times of growth, as...|||84389  84390  http://wallpaperpassion.com/upload/23700/friendship-boy-and-girl-wallpaper.jpg  http://assets.dornob.com/wp-content/uploads/2010/04/round-home-design.jpg ...|||Welcome and stuff.|||http://playeressence.com/wp-content/uploads/2013/08/RED-red-the-pokemon-master-32560474-450-338.jpg  Game. Set. Match.|||Prozac, wellbrutin, at least thirty minutes of moving your legs (and I don't mean moving them while sitting in your same desk chair), weed in moderation (maybe try edibles as a healthier alternative...|||Basically come up with three items you've determined that each type (or whichever types you want to do) would more than likely use, given each types' cognitive functions and whatnot, when left by...|||All things in moderation.  Sims is indeed a video game, and a good one at that. Note: a good one at that is somewhat subjective in that I am not completely promoting the death of any given Sim...|||Dear ENFP:  What were your favorite video games growing up and what are your now, current favorite video games? :cool:|||https://www.youtube.com/watch?v=QyPqT8umzmY|||It appears to be too late. :sad:|||There's someone out there for everyone.|||Wait... I thought confidence was a good thing.|||I just cherish the time of solitude b/c i revel within my inner world more whereas most other time i'd be workin... just enjoy the me time while you can. Don't worry, people will always be around to...|||Yo entp ladies... if you're into a complimentary personality,well, hey.|||... when your main social outlet is xbox live conversations and even then you verbally fatigue quickly.|||http://www.youtube.com/watch?v=gDhy7rdfm14  I really dig the part from 1:46 to 2:50|||http://www.youtube.com/watch?v=msqXffgh7b8|||Banned because this thread requires it of me.|||Get high in backyard, roast and eat marshmellows in backyard while conversing over something intellectual, followed by massages and kisses.|||http://www.youtube.com/watch?v=Mw7eoU3BMbE|||http://www.youtube.com/watch?v=4V2uYORhQOk|||http://www.youtube.com/watch?v=SlVmgFQQ0TI|||Banned for too many b's in that sentence. How could you! Think of the B!|||Banned for watching movies in the corner with the dunces.|||Banned because Health class clearly taught you nothing about peer pressure.|||Banned for a whole host of reasons!|||http://www.youtube.com/watch?v=IRcrv41hgz4|||1) Two baby deer on left and right munching on a beetle in the middle.  2) Using their own blood, two cavemen diary today's latest happenings on their designated cave diary wall.  3) I see it as...|||a pokemon world  an infj society  everyone becomes an optimist|||49142|||http://www.youtube.com/watch?v=ZRCEq_JFeFM|||http://discovermagazine.com/2012/jul-aug/20-things-you-didnt-know-about-deserts/desert.jpg|||http://oyster.ignimgs.com/mediawiki/apis.ign.com/pokemon-silver-version/d/dd/Ditto.gif|||http://www.serebii.net/potw-dp/Scizor.jpg|||Not all artists are artists because they draw. It's the idea that counts in forming something of your own... like a signature.|||Welcome to the robot ranks, person who downed my self-esteem cuz I'm not an avid signature artist like herself. :proud:|||Banned for taking all the room under my bed. Ya gotta learn to share with the roaches.|||http://www.youtube.com/watch?v=w8IgImn57aQ|||Banned for being too much of a thundering, grumbling kind of storm... yep.|||Ahh... old high school music I haven't heard in ages.   http://www.youtube.com/watch?v=dcCRUPCdB1w|||I failed a public speaking class a few years ago and I've sort of learned what I could do better were I to be in that position again. A big part of my failure was just overloading myself with too...|||I like this person's mentality. He's a confirmed INTJ by the way. http://www.youtube.com/watch?v=hGKLI-GEc6M|||Move to the Denver area and start a new life for myself.'\""
          },
          "metadata": {}
        }
      ]
    },
    {
      "cell_type": "code",
      "source": [
        "import string\n",
        "import re\n",
        "\n",
        "def clean_text(text):\n",
        "    regex = re.compile('[%s]' % re.escape('|'))\n",
        "    text = regex.sub(\" \", text)\n",
        "    words = str(text).split()\n",
        "    words = [i.lower() + \" \" for i in words]\n",
        "    words = [i for i in words if not \"http\" in i]\n",
        "    words = \" \".join(words)\n",
        "    words = words.translate(words.maketrans('', '', string.punctuation))\n",
        "    return words\n"
      ],
      "metadata": {
        "execution": {
          "iopub.status.busy": "2022-09-13T17:24:24.401722Z",
          "iopub.execute_input": "2022-09-13T17:24:24.402555Z",
          "iopub.status.idle": "2022-09-13T17:24:24.408959Z",
          "shell.execute_reply.started": "2022-09-13T17:24:24.402513Z",
          "shell.execute_reply": "2022-09-13T17:24:24.407977Z"
        },
        "trusted": true,
        "id": "AXN1mBoMbdp9"
      },
      "execution_count": null,
      "outputs": []
    },
    {
      "cell_type": "code",
      "source": [
        "data['cleaned_text'] = data['posts'].apply(clean_text)"
      ],
      "metadata": {
        "execution": {
          "iopub.status.busy": "2022-09-13T17:24:32.932267Z",
          "iopub.execute_input": "2022-09-13T17:24:32.932901Z",
          "iopub.status.idle": "2022-09-13T17:24:38.404708Z",
          "shell.execute_reply.started": "2022-09-13T17:24:32.932865Z",
          "shell.execute_reply": "2022-09-13T17:24:38.403933Z"
        },
        "trusted": true,
        "id": "u9oeVpC2bdp-"
      },
      "execution_count": null,
      "outputs": []
    },
    {
      "cell_type": "code",
      "source": [
        "data.cleaned_text.values[0]"
      ],
      "metadata": {
        "execution": {
          "iopub.status.busy": "2022-09-13T17:24:38.405948Z",
          "iopub.execute_input": "2022-09-13T17:24:38.406638Z",
          "iopub.status.idle": "2022-09-13T17:24:38.413064Z",
          "shell.execute_reply.started": "2022-09-13T17:24:38.406598Z",
          "shell.execute_reply": "2022-09-13T17:24:38.412329Z"
        },
        "trusted": true,
        "id": "fAiTdGQwbdp-",
        "outputId": "3014af7a-1f28-46ac-d909-44e29ea29388"
      },
      "execution_count": null,
      "outputs": [
        {
          "execution_count": 10,
          "output_type": "execute_result",
          "data": {
            "text/plain": "'enfp  and  intj  moments  sportscenter  not  top  ten  plays  pranks  what  has  been  the  most  lifechanging  experience  in  your  life  on  repeat  for  most  of  today  may  the  perc  experience  immerse  you  the  last  thing  my  infj  friend  posted  on  his  facebook  before  committing  suicide  the  next  day  rest  in  peace  hello  enfj7  sorry  to  hear  of  your  distress  its  only  natural  for  a  relationship  to  not  be  perfection  all  the  time  in  every  moment  of  existence  try  to  figure  the  hard  times  as  times  of  growth  as  84389  84390    welcome  and  stuff  game  set  match  prozac  wellbrutin  at  least  thirty  minutes  of  moving  your  legs  and  i  dont  mean  moving  them  while  sitting  in  your  same  desk  chair  weed  in  moderation  maybe  try  edibles  as  a  healthier  alternative  basically  come  up  with  three  items  youve  determined  that  each  type  or  whichever  types  you  want  to  do  would  more  than  likely  use  given  each  types  cognitive  functions  and  whatnot  when  left  by  all  things  in  moderation  sims  is  indeed  a  video  game  and  a  good  one  at  that  note  a  good  one  at  that  is  somewhat  subjective  in  that  i  am  not  completely  promoting  the  death  of  any  given  sim  dear  enfp  what  were  your  favorite  video  games  growing  up  and  what  are  your  now  current  favorite  video  games  cool  it  appears  to  be  too  late  sad  theres  someone  out  there  for  everyone  wait  i  thought  confidence  was  a  good  thing  i  just  cherish  the  time  of  solitude  bc  i  revel  within  my  inner  world  more  whereas  most  other  time  id  be  workin  just  enjoy  the  me  time  while  you  can  dont  worry  people  will  always  be  around  to  yo  entp  ladies  if  youre  into  a  complimentary  personalitywell  hey    when  your  main  social  outlet  is  xbox  live  conversations  and  even  then  you  verbally  fatigue  quickly  i  really  dig  the  part  from  146  to  250  banned  because  this  thread  requires  it  of  me  get  high  in  backyard  roast  and  eat  marshmellows  in  backyard  while  conversing  over  something  intellectual  followed  by  massages  and  kisses  banned  for  too  many  bs  in  that  sentence  how  could  you  think  of  the  b  banned  for  watching  movies  in  the  corner  with  the  dunces  banned  because  health  class  clearly  taught  you  nothing  about  peer  pressure  banned  for  a  whole  host  of  reasons  1  two  baby  deer  on  left  and  right  munching  on  a  beetle  in  the  middle  2  using  their  own  blood  two  cavemen  diary  todays  latest  happenings  on  their  designated  cave  diary  wall  3  i  see  it  as  a  pokemon  world  an  infj  society  everyone  becomes  an  optimist  49142  not  all  artists  are  artists  because  they  draw  its  the  idea  that  counts  in  forming  something  of  your  own  like  a  signature  welcome  to  the  robot  ranks  person  who  downed  my  selfesteem  cuz  im  not  an  avid  signature  artist  like  herself  proud  banned  for  taking  all  the  room  under  my  bed  ya  gotta  learn  to  share  with  the  roaches  banned  for  being  too  much  of  a  thundering  grumbling  kind  of  storm  yep  ahh  old  high  school  music  i  havent  heard  in  ages  i  failed  a  public  speaking  class  a  few  years  ago  and  ive  sort  of  learned  what  i  could  do  better  were  i  to  be  in  that  position  again  a  big  part  of  my  failure  was  just  overloading  myself  with  too  i  like  this  persons  mentality  hes  a  confirmed  intj  by  the  way  move  to  the  denver  area  and  start  a  new  life  for  myself '"
          },
          "metadata": {}
        }
      ]
    },
    {
      "cell_type": "code",
      "source": [
        "data.head()"
      ],
      "metadata": {
        "execution": {
          "iopub.status.busy": "2022-09-13T17:24:39.026381Z",
          "iopub.execute_input": "2022-09-13T17:24:39.026823Z",
          "iopub.status.idle": "2022-09-13T17:24:39.038790Z",
          "shell.execute_reply.started": "2022-09-13T17:24:39.026791Z",
          "shell.execute_reply": "2022-09-13T17:24:39.037795Z"
        },
        "trusted": true,
        "id": "o6YB-INXbdp-",
        "outputId": "9fd6d2d8-b6fd-4136-d1a9-9664919d71be"
      },
      "execution_count": null,
      "outputs": [
        {
          "execution_count": 11,
          "output_type": "execute_result",
          "data": {
            "text/plain": "   type                                              posts  type_index  \\\n0  INFJ  'http://www.youtube.com/watch?v=qsXHcwe3krw|||...           8   \n1  ENTP  'I'm finding the lack of me in these posts ver...           3   \n2  INTP  'Good one  _____   https://www.youtube.com/wat...          11   \n3  INTJ  'Dear INTP,   I enjoyed our conversation the o...          10   \n4  ENTJ  'You're fired.|||That's another silly misconce...           2   \n\n                                        cleaned_text  \n0  enfp  and  intj  moments  sportscenter  not  t...  \n1  im  finding  the  lack  of  me  in  these  pos...  \n2  good  one    of  course  to  which  i  say  i ...  \n3  dear  intp  i  enjoyed  our  conversation  the...  \n4  youre  fired  thats  another  silly  misconcep...  ",
            "text/html": "<div>\n<style scoped>\n    .dataframe tbody tr th:only-of-type {\n        vertical-align: middle;\n    }\n\n    .dataframe tbody tr th {\n        vertical-align: top;\n    }\n\n    .dataframe thead th {\n        text-align: right;\n    }\n</style>\n<table border=\"1\" class=\"dataframe\">\n  <thead>\n    <tr style=\"text-align: right;\">\n      <th></th>\n      <th>type</th>\n      <th>posts</th>\n      <th>type_index</th>\n      <th>cleaned_text</th>\n    </tr>\n  </thead>\n  <tbody>\n    <tr>\n      <th>0</th>\n      <td>INFJ</td>\n      <td>'http://www.youtube.com/watch?v=qsXHcwe3krw|||...</td>\n      <td>8</td>\n      <td>enfp  and  intj  moments  sportscenter  not  t...</td>\n    </tr>\n    <tr>\n      <th>1</th>\n      <td>ENTP</td>\n      <td>'I'm finding the lack of me in these posts ver...</td>\n      <td>3</td>\n      <td>im  finding  the  lack  of  me  in  these  pos...</td>\n    </tr>\n    <tr>\n      <th>2</th>\n      <td>INTP</td>\n      <td>'Good one  _____   https://www.youtube.com/wat...</td>\n      <td>11</td>\n      <td>good  one    of  course  to  which  i  say  i ...</td>\n    </tr>\n    <tr>\n      <th>3</th>\n      <td>INTJ</td>\n      <td>'Dear INTP,   I enjoyed our conversation the o...</td>\n      <td>10</td>\n      <td>dear  intp  i  enjoyed  our  conversation  the...</td>\n    </tr>\n    <tr>\n      <th>4</th>\n      <td>ENTJ</td>\n      <td>'You're fired.|||That's another silly misconce...</td>\n      <td>2</td>\n      <td>youre  fired  thats  another  silly  misconcep...</td>\n    </tr>\n  </tbody>\n</table>\n</div>"
          },
          "metadata": {}
        }
      ]
    },
    {
      "cell_type": "code",
      "source": [
        "from sklearn.model_selection import train_test_split\n",
        "\n",
        "train, test = train_test_split(data)\n",
        "train, val = train_test_split(train)"
      ],
      "metadata": {
        "execution": {
          "iopub.status.busy": "2022-09-13T17:24:42.879182Z",
          "iopub.execute_input": "2022-09-13T17:24:42.879490Z",
          "iopub.status.idle": "2022-09-13T17:24:43.908130Z",
          "shell.execute_reply.started": "2022-09-13T17:24:42.879455Z",
          "shell.execute_reply": "2022-09-13T17:24:43.907340Z"
        },
        "trusted": true,
        "id": "M0R4l4iUbdp_"
      },
      "execution_count": null,
      "outputs": []
    },
    {
      "cell_type": "code",
      "source": [
        "import tensorflow as tf\n",
        "from tensorflow.keras.preprocessing.text import Tokenizer\n",
        "from tensorflow.keras.preprocessing.sequence import pad_sequences\n",
        "\n",
        "vocab_size = 10000\n",
        "trunc_type = \"post\"\n",
        "pad_type = \"post\"\n",
        "oov_tok = \"<OOV>\"\n",
        "tokenizer = Tokenizer(num_words = vocab_size, oov_token=oov_tok)\n",
        "tokenizer.fit_on_texts(data.cleaned_text.values)"
      ],
      "metadata": {
        "execution": {
          "iopub.status.busy": "2022-09-13T17:24:45.493188Z",
          "iopub.execute_input": "2022-09-13T17:24:45.495288Z",
          "iopub.status.idle": "2022-09-13T17:25:02.280806Z",
          "shell.execute_reply.started": "2022-09-13T17:24:45.495239Z",
          "shell.execute_reply": "2022-09-13T17:25:02.280059Z"
        },
        "trusted": true,
        "id": "41TMqbbTbdp_",
        "outputId": "85bbc665-37ac-4321-c92d-a1491fe2b702"
      },
      "execution_count": null,
      "outputs": [
        {
          "name": "stderr",
          "text": "2022-09-13 17:24:46.255158: W tensorflow/stream_executor/platform/default/dso_loader.cc:60] Could not load dynamic library 'libcudart.so.11.0'; dlerror: libcudart.so.11.0: cannot open shared object file: No such file or directory; LD_LIBRARY_PATH: /opt/conda/lib\n2022-09-13 17:24:46.255285: I tensorflow/stream_executor/cuda/cudart_stub.cc:29] Ignore above cudart dlerror if you do not have a GPU set up on your machine.\n",
          "output_type": "stream"
        }
      ]
    },
    {
      "cell_type": "code",
      "source": [
        "maxlen = 1500\n",
        "train_sequences = tokenizer.texts_to_sequences(train.cleaned_text.values)\n",
        "train_padded = pad_sequences(train_sequences, maxlen = maxlen, truncating = trunc_type, padding = pad_type)\n",
        "\n",
        "val_sequences = tokenizer.texts_to_sequences(val.cleaned_text.values)\n",
        "val_padded = pad_sequences(val_sequences, maxlen = maxlen, truncating = trunc_type, padding = pad_type)\n"
      ],
      "metadata": {
        "execution": {
          "iopub.status.busy": "2022-09-13T17:25:06.590424Z",
          "iopub.execute_input": "2022-09-13T17:25:06.591012Z",
          "iopub.status.idle": "2022-09-13T17:25:13.495436Z",
          "shell.execute_reply.started": "2022-09-13T17:25:06.590976Z",
          "shell.execute_reply": "2022-09-13T17:25:13.494255Z"
        },
        "trusted": true,
        "id": "91zXZAZ3bdqA"
      },
      "execution_count": null,
      "outputs": []
    },
    {
      "cell_type": "code",
      "source": [
        "train_padded"
      ],
      "metadata": {
        "execution": {
          "iopub.status.busy": "2022-09-13T17:25:13.497137Z",
          "iopub.execute_input": "2022-09-13T17:25:13.497419Z",
          "iopub.status.idle": "2022-09-13T17:25:13.508351Z",
          "shell.execute_reply.started": "2022-09-13T17:25:13.497387Z",
          "shell.execute_reply": "2022-09-13T17:25:13.507078Z"
        },
        "trusted": true,
        "id": "JxulZHUYbdqA",
        "outputId": "f969e05b-d5ff-4281-f6d6-1fb5dd066ea6"
      },
      "execution_count": null,
      "outputs": [
        {
          "execution_count": 15,
          "output_type": "execute_result",
          "data": {
            "text/plain": "array([[  19,  595,   26, ...,    0,    0,    0],\n       [4248,  227,   14, ...,    0,    0,    0],\n       [   2,   38,   61, ...,    0,    0,    0],\n       ...,\n       [   1,  139,  474, ...,    0,    0,    0],\n       [ 339,    1,   46, ...,    0,    0,    0],\n       [   1,   11,  461, ...,   37,  126,   10]], dtype=int32)"
          },
          "metadata": {}
        }
      ]
    },
    {
      "cell_type": "code",
      "source": [
        "one_hot_labels = tf.keras.utils.to_categorical(train.type_index.values, num_classes=16)\n",
        "val_labels= tf.keras.utils.to_categorical(val.type_index.values, num_classes=16)"
      ],
      "metadata": {
        "execution": {
          "iopub.status.busy": "2022-09-13T17:25:16.963056Z",
          "iopub.execute_input": "2022-09-13T17:25:16.963380Z",
          "iopub.status.idle": "2022-09-13T17:25:16.969236Z",
          "shell.execute_reply.started": "2022-09-13T17:25:16.963348Z",
          "shell.execute_reply": "2022-09-13T17:25:16.968439Z"
        },
        "trusted": true,
        "id": "fq5uQJyXbdqB"
      },
      "execution_count": null,
      "outputs": []
    },
    {
      "cell_type": "code",
      "source": [
        "from tensorflow.keras.models import Sequential\n",
        "from tensorflow.keras.layers import Embedding, LSTM, Dense, Bidirectional, Flatten, Dropout, Conv1D, GlobalMaxPooling1D\n",
        "\n",
        "def create_model():\n",
        "    op = tf.keras.optimizers.Adam(learning_rate=0.00001)\n",
        "\n",
        "    model = Sequential()\n",
        "    model.add(Embedding(vocab_size, 256, input_length=maxlen-1))\n",
        "    model.add(Dropout(0.3))\n",
        "    model.add(Bidirectional(LSTM(200, return_sequences=True)))\n",
        "    model.add(Dropout(0.3))\n",
        "    model.add(Bidirectional(LSTM(20)))\n",
        "    model.add(Dropout(0.3))\n",
        "    model.add(Dense(64, activation='relu'))\n",
        "    model.add(Dense(16, activation='softmax'))\n",
        "    model.compile(loss='categorical_crossentropy', optimizer=op, metrics=['accuracy'])\n",
        "    return model"
      ],
      "metadata": {
        "execution": {
          "iopub.status.busy": "2022-09-13T17:25:27.619295Z",
          "iopub.execute_input": "2022-09-13T17:25:27.619886Z",
          "iopub.status.idle": "2022-09-13T17:25:27.627810Z",
          "shell.execute_reply.started": "2022-09-13T17:25:27.619851Z",
          "shell.execute_reply": "2022-09-13T17:25:27.626709Z"
        },
        "trusted": true,
        "id": "hA3qEkPkbdqB"
      },
      "execution_count": null,
      "outputs": []
    },
    {
      "cell_type": "code",
      "source": [
        "use_tpu = True\n",
        "if use_tpu:\n",
        "    # Create distribution strategy\n",
        "    tpu = tf.distribute.cluster_resolver.TPUClusterResolver()\n",
        "    tf.config.experimental_connect_to_cluster(tpu)\n",
        "    tf.tpu.experimental.initialize_tpu_system(tpu)\n",
        "    strategy = tf.distribute.experimental.TPUStrategy(tpu)\n",
        "\n",
        "    # Create model\n",
        "    with strategy.scope():\n",
        "        model = create_model()\n",
        "else:\n",
        "    model = create_model()\n",
        "    \n",
        "model.summary()"
      ],
      "metadata": {
        "trusted": true,
        "id": "9uL6pMzdbdqC"
      },
      "execution_count": null,
      "outputs": []
    },
    {
      "cell_type": "code",
      "source": [
        "model.fit(train_padded, one_hot_labels, epochs =20, verbose = 1, \n",
        "          validation_data = (val_padded, val_labels),  callbacks = [tf.keras.callbacks.EarlyStopping(patience = 3)])"
      ],
      "metadata": {
        "trusted": true,
        "id": "AFbL6D7DbdqC"
      },
      "execution_count": null,
      "outputs": []
    },
    {
      "cell_type": "code",
      "source": [
        "from tensorflow.keras import layers\n",
        "from tensorflow import keras\n",
        "class MultiHeadSelfAttention(layers.Layer):\n",
        "    def __init__(self, embed_dim, num_heads=8):\n",
        "        super(MultiHeadSelfAttention, self).__init__()\n",
        "        self.embed_dim = embed_dim\n",
        "        self.num_heads = num_heads\n",
        "        if embed_dim % num_heads != 0:\n",
        "            raise ValueError(\n",
        "                f\"embedding dimension = {embed_dim} should be divisible by number of heads = {num_heads}\"\n",
        "            )\n",
        "        self.projection_dim = embed_dim // num_heads\n",
        "        self.query_dense = layers.Dense(embed_dim)\n",
        "        self.key_dense = layers.Dense(embed_dim)\n",
        "        self.value_dense = layers.Dense(embed_dim)\n",
        "        self.combine_heads = layers.Dense(embed_dim)\n",
        "\n",
        "    def attention(self, query, key, value):\n",
        "        score = tf.matmul(query, key, transpose_b=True)\n",
        "        dim_key = tf.cast(tf.shape(key)[-1], tf.float32)\n",
        "        scaled_score = score / tf.math.sqrt(dim_key)\n",
        "        weights = tf.nn.softmax(scaled_score, axis=-1)\n",
        "        output = tf.matmul(weights, value)\n",
        "        return output, weights\n",
        "\n",
        "    def separate_heads(self, x, batch_size):\n",
        "        x = tf.reshape(x, (batch_size, -1, self.num_heads, self.projection_dim))\n",
        "        return tf.transpose(x, perm=[0, 2, 1, 3])\n",
        "\n",
        "    def call(self, inputs):\n",
        "        # x.shape = [batch_size, seq_len, embedding_dim]\n",
        "        batch_size = tf.shape(inputs)[0]\n",
        "        query = self.query_dense(inputs)  # (batch_size, seq_len, embed_dim)\n",
        "        key = self.key_dense(inputs)  # (batch_size, seq_len, embed_dim)\n",
        "        value = self.value_dense(inputs)  # (batch_size, seq_len, embed_dim)\n",
        "        query = self.separate_heads(\n",
        "            query, batch_size\n",
        "        )  # (batch_size, num_heads, seq_len, projection_dim)\n",
        "        key = self.separate_heads(\n",
        "            key, batch_size\n",
        "        )  # (batch_size, num_heads, seq_len, projection_dim)\n",
        "        value = self.separate_heads(\n",
        "            value, batch_size\n",
        "        )  # (batch_size, num_heads, seq_len, projection_dim)\n",
        "        attention, weights = self.attention(query, key, value)\n",
        "        attention = tf.transpose(\n",
        "            attention, perm=[0, 2, 1, 3]\n",
        "        )  # (batch_size, seq_len, num_heads, projection_dim)\n",
        "        concat_attention = tf.reshape(\n",
        "            attention, (batch_size, -1, self.embed_dim)\n",
        "        )  # (batch_size, seq_len, embed_dim)\n",
        "        output = self.combine_heads(\n",
        "            concat_attention\n",
        "        )  # (batch_size, seq_len, embed_dim)\n",
        "        return output"
      ],
      "metadata": {
        "execution": {
          "iopub.status.busy": "2022-09-13T17:25:39.375259Z",
          "iopub.execute_input": "2022-09-13T17:25:39.375846Z",
          "iopub.status.idle": "2022-09-13T17:25:39.393615Z",
          "shell.execute_reply.started": "2022-09-13T17:25:39.375810Z",
          "shell.execute_reply": "2022-09-13T17:25:39.392297Z"
        },
        "trusted": true,
        "id": "FZOvvrhebdqC"
      },
      "execution_count": null,
      "outputs": []
    },
    {
      "cell_type": "code",
      "source": [
        "class TransformerBlock(layers.Layer):\n",
        "    def __init__(self, embed_dim, num_heads, ff_dim, rate=0.1):\n",
        "        super(TransformerBlock, self).__init__()\n",
        "        self.att = MultiHeadSelfAttention(embed_dim, num_heads)\n",
        "        self.ffn = keras.Sequential(\n",
        "            [layers.Dense(ff_dim, activation=\"relu\"), layers.Dense(embed_dim),]\n",
        "        )\n",
        "        self.layernorm1 = layers.LayerNormalization(epsilon=1e-6)\n",
        "        self.layernorm2 = layers.LayerNormalization(epsilon=1e-6)\n",
        "        self.dropout1 = layers.Dropout(rate)\n",
        "        self.dropout2 = layers.Dropout(rate)\n",
        "\n",
        "    def call(self, inputs, training):\n",
        "        attn_output = self.att(inputs)\n",
        "        attn_output = self.dropout1(attn_output, training=training)\n",
        "        out1 = self.layernorm1(inputs + attn_output)\n",
        "        ffn_output = self.ffn(out1)\n",
        "        ffn_output = self.dropout2(ffn_output, training=training)\n",
        "        return self.layernorm2(out1 + ffn_output)"
      ],
      "metadata": {
        "trusted": true,
        "id": "7YS77nBWbdqD"
      },
      "execution_count": null,
      "outputs": []
    },
    {
      "cell_type": "code",
      "source": [
        "class TokenAndPositionEmbedding(layers.Layer):\n",
        "    def __init__(self, maxlen, vocab_size, emded_dim):\n",
        "        super(TokenAndPositionEmbedding, self).__init__()\n",
        "        self.token_emb = layers.Embedding(input_dim=vocab_size, output_dim=emded_dim)\n",
        "        self.pos_emb = layers.Embedding(input_dim=maxlen, output_dim=emded_dim)\n",
        "\n",
        "    def call(self, x):\n",
        "        maxlen = tf.shape(x)[-1]\n",
        "        positions = tf.range(start=0, limit=maxlen, delta=1)\n",
        "        positions = self.pos_emb(positions)\n",
        "        x = self.token_emb(x)\n",
        "        return x + positions\n"
      ],
      "metadata": {
        "trusted": true,
        "id": "TTHekLt3bdqD"
      },
      "execution_count": null,
      "outputs": []
    },
    {
      "cell_type": "code",
      "source": [
        "embed_dim = 32  # Embedding size for each token\n",
        "num_heads = 2  # Number of attention heads\n",
        "ff_dim = 32  # Hidden layer size in feed forward network inside transformer\n",
        "\n",
        "def create_model(): \n",
        "    inputs = layers.Input(shape=(maxlen,))\n",
        "    embedding_layer = TokenAndPositionEmbedding(maxlen, vocab_size, embed_dim)\n",
        "    x = embedding_layer(inputs)\n",
        "    transformer_block = TransformerBlock(embed_dim, num_heads, ff_dim)\n",
        "    x = transformer_block(x)\n",
        "    # x = layers.GlobalAveragePooling1D()(x)\n",
        "    # x = layers.Dropout(0.1)(x)\n",
        "    x = (Bidirectional(LSTM(200, return_sequences=True)))(x)\n",
        "    x = (Dropout(0.3))(x)\n",
        "    x = (Bidirectional(LSTM(20)))(x)\n",
        "    x = layers.Dense(20, activation=\"relu\")(x)\n",
        "    x = layers.Dropout(0.1)(x)\n",
        "    outputs = layers.Dense(16, activation=\"softmax\")(x)\n",
        "    \n",
        "    op = tf.keras.optimizers.Adam(learning_rate=0.00001)\n",
        "\n",
        "    model = keras.Model(inputs=inputs, outputs=outputs)\n",
        "    model.compile(op, 'categorical_crossentropy', metrics = ['accuracy'])\n",
        "    return model"
      ],
      "metadata": {
        "trusted": true,
        "id": "FVgfrSarbdqD"
      },
      "execution_count": null,
      "outputs": []
    },
    {
      "cell_type": "code",
      "source": [
        "use_tpu = True\n",
        "if use_tpu:\n",
        "    # Create distribution strategy\n",
        "    tpu = tf.distribute.cluster_resolver.TPUClusterResolver()\n",
        "    tf.config.experimental_connect_to_cluster(tpu)\n",
        "    tf.tpu.experimental.initialize_tpu_system(tpu)\n",
        "    strategy = tf.distribute.experimental.TPUStrategy(tpu)\n",
        "\n",
        "    # Create model\n",
        "    with strategy.scope():\n",
        "        model = create_model()\n",
        "else:\n",
        "    model = create_model()\n",
        "    \n",
        "model.summary()"
      ],
      "metadata": {
        "trusted": true,
        "id": "2k0BxHQnbdqD"
      },
      "execution_count": null,
      "outputs": []
    },
    {
      "cell_type": "code",
      "source": [
        "model.fit(train_padded, one_hot_labels, epochs =30, verbose = 1, \n",
        "          validation_data = (val_padded, val_labels), callbacks = [tf.keras.callbacks.EarlyStopping(patience = 3)])"
      ],
      "metadata": {
        "trusted": true,
        "id": "-I9L0ILXbdqE"
      },
      "execution_count": null,
      "outputs": []
    },
    {
      "cell_type": "code",
      "source": [
        "import transformers\n",
        "tokenizer = transformers.AutoTokenizer.from_pretrained('bert-large-uncased')"
      ],
      "metadata": {
        "execution": {
          "iopub.status.busy": "2022-09-13T17:25:48.307818Z",
          "iopub.execute_input": "2022-09-13T17:25:48.308159Z",
          "iopub.status.idle": "2022-09-13T17:25:52.721485Z",
          "shell.execute_reply.started": "2022-09-13T17:25:48.308122Z",
          "shell.execute_reply": "2022-09-13T17:25:52.720418Z"
        },
        "trusted": true,
        "colab": {
          "referenced_widgets": [
            "68c3860b0ea74dd28c977e7de1cb6a81",
            "7dce0b816382434f9a24a5cfbf23b56c",
            "0fb7abafcd0449d3a0ce21adce064943",
            "f1162a285a45409f8f250342ce4f70ff"
          ]
        },
        "id": "DAm4Bt5YbdqE",
        "outputId": "e98ec748-d3a3-4779-fe19-eb8788925485"
      },
      "execution_count": null,
      "outputs": [
        {
          "output_type": "display_data",
          "data": {
            "text/plain": "Downloading:   0%|          | 0.00/571 [00:00<?, ?B/s]",
            "application/vnd.jupyter.widget-view+json": {
              "version_major": 2,
              "version_minor": 0,
              "model_id": "68c3860b0ea74dd28c977e7de1cb6a81"
            }
          },
          "metadata": {}
        },
        {
          "output_type": "display_data",
          "data": {
            "text/plain": "Downloading:   0%|          | 0.00/232k [00:00<?, ?B/s]",
            "application/vnd.jupyter.widget-view+json": {
              "version_major": 2,
              "version_minor": 0,
              "model_id": "7dce0b816382434f9a24a5cfbf23b56c"
            }
          },
          "metadata": {}
        },
        {
          "output_type": "display_data",
          "data": {
            "text/plain": "Downloading:   0%|          | 0.00/466k [00:00<?, ?B/s]",
            "application/vnd.jupyter.widget-view+json": {
              "version_major": 2,
              "version_minor": 0,
              "model_id": "0fb7abafcd0449d3a0ce21adce064943"
            }
          },
          "metadata": {}
        },
        {
          "output_type": "display_data",
          "data": {
            "text/plain": "Downloading:   0%|          | 0.00/28.0 [00:00<?, ?B/s]",
            "application/vnd.jupyter.widget-view+json": {
              "version_major": 2,
              "version_minor": 0,
              "model_id": "f1162a285a45409f8f250342ce4f70ff"
            }
          },
          "metadata": {}
        }
      ]
    },
    {
      "cell_type": "code",
      "source": [
        "maxlen = 1500\n",
        "\n",
        "train_input_ids = [tokenizer.encode(str(i), max_length = maxlen , pad_to_max_length = True) for i in train.cleaned_text.values]\n",
        "val_input_ids = [tokenizer.encode(str(i), max_length = maxlen , pad_to_max_length = True) for i in val.cleaned_text.values]"
      ],
      "metadata": {
        "execution": {
          "iopub.status.busy": "2022-09-13T17:25:52.722920Z",
          "iopub.execute_input": "2022-09-13T17:25:52.723174Z",
          "iopub.status.idle": "2022-09-13T17:26:30.404075Z",
          "shell.execute_reply.started": "2022-09-13T17:25:52.723147Z",
          "shell.execute_reply": "2022-09-13T17:26:30.403191Z"
        },
        "trusted": true,
        "id": "RJiXQ7zQbdqE",
        "outputId": "679e74fc-f383-4011-f258-1d953fd8fd0e"
      },
      "execution_count": null,
      "outputs": [
        {
          "name": "stderr",
          "text": "Truncation was not explicitly activated but `max_length` is provided a specific value, please use `truncation=True` to explicitly truncate examples to max length. Defaulting to 'longest_first' truncation strategy. If you encode pairs of sequences (GLUE-style) with the tokenizer you can select this strategy more precisely by providing a specific strategy to `truncation`.\n/opt/conda/lib/python3.7/site-packages/transformers/tokenization_utils_base.py:2079: FutureWarning: The `pad_to_max_length` argument is deprecated and will be removed in a future version, use `padding=True` or `padding='longest'` to pad to the longest sequence in the batch, or use `padding='max_length'` to pad to a max length. In this case, you can give a specific length with `max_length` (e.g. `max_length=45`) or leave max_length to None to pad to the maximal input size of the model (e.g. 512 for Bert).\n  FutureWarning,\n",
          "output_type": "stream"
        }
      ]
    },
    {
      "cell_type": "code",
      "source": [
        "def create_model(): \n",
        "    input_word_ids = tf.keras.layers.Input(shape=(maxlen,), dtype=tf.int32,\n",
        "                                           name=\"input_word_ids\")\n",
        "    bert_layer = transformers.TFBertModel.from_pretrained('bert-large-uncased')\n",
        "    bert_outputs = bert_layer(input_word_ids)[0]\n",
        "    pred = tf.keras.layers.Dense(16, activation='softmax')(bert_outputs[:,0,:])\n",
        "    \n",
        "    model = tf.keras.models.Model(inputs=input_word_ids, outputs=pred)\n",
        "    loss = tf.keras.losses.SparseCategoricalCrossentropy(from_logits=True)\n",
        "    model.compile(loss='categorical_crossentropy', optimizer=tf.keras.optimizers.Adam(\n",
        "    learning_rate=0.00001), metrics=['accuracy'])\n",
        "    return model"
      ],
      "metadata": {
        "execution": {
          "iopub.status.busy": "2022-09-13T17:26:46.788624Z",
          "iopub.execute_input": "2022-09-13T17:26:46.788928Z",
          "iopub.status.idle": "2022-09-13T17:26:46.807410Z",
          "shell.execute_reply.started": "2022-09-13T17:26:46.788893Z",
          "shell.execute_reply": "2022-09-13T17:26:46.806470Z"
        },
        "trusted": true,
        "id": "r_ZiJUz8bdqF"
      },
      "execution_count": null,
      "outputs": []
    },
    {
      "cell_type": "code",
      "source": [
        "use_tpu = True\n",
        "if use_tpu:\n",
        "    # Create distribution strategy\n",
        "    tpu = tf.distribute.cluster_resolver.TPUClusterResolver()\n",
        "    tf.config.experimental_connect_to_cluster(tpu)\n",
        "    tf.tpu.experimental.initialize_tpu_system(tpu)\n",
        "    strategy = tf.distribute.experimental.TPUStrategy(tpu)\n",
        "    print(\"loaded in tpu\")\n",
        "\n",
        "    # Create model\n",
        "    with strategy.scope():\n",
        "        model = create_model()\n",
        "else:\n",
        "    model = create_model()\n",
        "    \n",
        "model.summary()"
      ],
      "metadata": {
        "execution": {
          "iopub.status.busy": "2022-09-13T17:29:06.200183Z",
          "iopub.execute_input": "2022-09-13T17:29:06.200438Z",
          "iopub.status.idle": "2022-09-13T17:29:40.523754Z",
          "shell.execute_reply.started": "2022-09-13T17:29:06.200408Z",
          "shell.execute_reply": "2022-09-13T17:29:40.522806Z"
        },
        "trusted": true,
        "id": "YH5kJ7EfbdqF",
        "outputId": "2b5d4cfc-d5f8-4998-bce2-b9d95e728b4f"
      },
      "execution_count": null,
      "outputs": [
        {
          "name": "stderr",
          "text": "2022-09-13 17:29:06.204536: I tensorflow/core/distributed_runtime/rpc/grpc_channel.cc:301] Initialize GrpcChannelCache for job worker -> {0 -> 10.0.0.2:8470}\n2022-09-13 17:29:06.204623: I tensorflow/core/distributed_runtime/rpc/grpc_channel.cc:301] Initialize GrpcChannelCache for job localhost -> {0 -> localhost:30020}\n2022-09-13 17:29:06.207991: I tensorflow/core/distributed_runtime/rpc/grpc_channel.cc:301] Initialize GrpcChannelCache for job worker -> {0 -> 10.0.0.2:8470}\n2022-09-13 17:29:06.208166: I tensorflow/core/distributed_runtime/rpc/grpc_channel.cc:301] Initialize GrpcChannelCache for job localhost -> {0 -> localhost:30020}\n",
          "output_type": "stream"
        },
        {
          "name": "stdout",
          "text": "loaded in tpu\n",
          "output_type": "stream"
        },
        {
          "name": "stderr",
          "text": "Some layers from the model checkpoint at bert-large-uncased were not used when initializing TFBertModel: ['mlm___cls', 'nsp___cls']\n- This IS expected if you are initializing TFBertModel from the checkpoint of a model trained on another task or with another architecture (e.g. initializing a BertForSequenceClassification model from a BertForPreTraining model).\n- This IS NOT expected if you are initializing TFBertModel from the checkpoint of a model that you expect to be exactly identical (initializing a BertForSequenceClassification model from a BertForSequenceClassification model).\nAll the layers of TFBertModel were initialized from the model checkpoint at bert-large-uncased.\nIf your task is similar to the task the model of the checkpoint was trained on, you can already use TFBertModel for predictions without further training.\n",
          "output_type": "stream"
        },
        {
          "name": "stdout",
          "text": "Model: \"model_1\"\n_________________________________________________________________\nLayer (type)                 Output Shape              Param #   \n=================================================================\ninput_word_ids (InputLayer)  [(None, 1500)]            0         \n_________________________________________________________________\ntf_bert_model_1 (TFBertModel TFBaseModelOutputWithPool 335141888 \n_________________________________________________________________\ntf.__operators__.getitem_1 ( (None, 1024)              0         \n_________________________________________________________________\ndense_1 (Dense)              (None, 16)                16400     \n=================================================================\nTotal params: 335,158,288\nTrainable params: 335,158,288\nNon-trainable params: 0\n_________________________________________________________________\n",
          "output_type": "stream"
        }
      ]
    },
    {
      "cell_type": "code",
      "source": [
        "batch_size = 16\n",
        "\n",
        "model.fit(np.array(train_input_ids), one_hot_labels,validation_data = (np.array(val_input_ids), val_labels),\n",
        "          verbose = 1, epochs = 20, batch_size = batch_size,  callbacks = [tf.keras.callbacks.EarlyStopping(patience = 5)])"
      ],
      "metadata": {
        "execution": {
          "iopub.status.busy": "2022-09-13T18:05:23.667445Z",
          "iopub.execute_input": "2022-09-13T18:05:23.668421Z",
          "iopub.status.idle": "2022-09-13T18:21:35.898816Z",
          "shell.execute_reply.started": "2022-09-13T18:05:23.668375Z",
          "shell.execute_reply": "2022-09-13T18:21:35.897897Z"
        },
        "trusted": true,
        "id": "a0-vrLXBbdqF",
        "outputId": "169d3497-c8ab-4a8c-d8ca-646020f401e4"
      },
      "execution_count": null,
      "outputs": [
        {
          "name": "stdout",
          "text": "Epoch 1/20\n305/305 [==============================] - 162s 530ms/step - loss: 0.1877 - accuracy: 0.9455 - val_loss: 1.5717 - val_accuracy: 0.6589\nEpoch 2/20\n305/305 [==============================] - 162s 531ms/step - loss: 0.1109 - accuracy: 0.9707 - val_loss: 1.6166 - val_accuracy: 0.6761\nEpoch 3/20\n305/305 [==============================] - 162s 531ms/step - loss: 0.0857 - accuracy: 0.9775 - val_loss: 1.6988 - val_accuracy: 0.6675\nEpoch 4/20\n305/305 [==============================] - 162s 531ms/step - loss: 0.0597 - accuracy: 0.9859 - val_loss: 1.8317 - val_accuracy: 0.6669\nEpoch 5/20\n305/305 [==============================] - 162s 530ms/step - loss: 0.0637 - accuracy: 0.9834 - val_loss: 1.9867 - val_accuracy: 0.6577\nEpoch 6/20\n305/305 [==============================] - 162s 530ms/step - loss: 0.0405 - accuracy: 0.9898 - val_loss: 2.0337 - val_accuracy: 0.6540\n",
          "output_type": "stream"
        },
        {
          "execution_count": 25,
          "output_type": "execute_result",
          "data": {
            "text/plain": "<tensorflow.python.keras.callbacks.History at 0x7f4508d06d50>"
          },
          "metadata": {}
        }
      ]
    },
    {
      "cell_type": "code",
      "source": [],
      "metadata": {
        "trusted": true,
        "id": "ZA6txFwWbdqG"
      },
      "execution_count": null,
      "outputs": []
    }
  ]
}